{
 "cells": [
  {
   "cell_type": "code",
   "execution_count": 1,
   "id": "2b63dea1-c0f2-463c-bfd5-f3349140da18",
   "metadata": {},
   "outputs": [
    {
     "data": {
      "text/plain": [
       "17"
      ]
     },
     "execution_count": 1,
     "metadata": {},
     "output_type": "execute_result"
    }
   ],
   "source": [
    "5+12"
   ]
  },
  {
   "cell_type": "code",
   "execution_count": null,
   "id": "d161c456-ca0d-4bb3-8c1a-92805f7645da",
   "metadata": {},
   "outputs": [],
   "source": []
  },
  {
   "cell_type": "code",
   "execution_count": null,
   "id": "ceb96cc7-234c-41e6-841b-a44bc4679b3e",
   "metadata": {},
   "outputs": [],
   "source": []
  },
  {
   "cell_type": "code",
   "execution_count": 2,
   "id": "929d6403-28f8-4bd1-85b5-cdafc90ebc3f",
   "metadata": {},
   "outputs": [
    {
     "data": {
      "text/plain": [
       "25"
      ]
     },
     "execution_count": 2,
     "metadata": {},
     "output_type": "execute_result"
    }
   ],
   "source": [
    "5*5"
   ]
  },
  {
   "cell_type": "code",
   "execution_count": 3,
   "id": "2f008b97-7a0e-4363-ad39-4c057d5bcf94",
   "metadata": {},
   "outputs": [
    {
     "data": {
      "text/plain": [
       "0.2857142857142857"
      ]
     },
     "execution_count": 3,
     "metadata": {},
     "output_type": "execute_result"
    }
   ],
   "source": [
    "2/7"
   ]
  },
  {
   "cell_type": "code",
   "execution_count": 4,
   "id": "cfcceffc-d79b-47c5-bc56-0eafb1a3980b",
   "metadata": {},
   "outputs": [
    {
     "data": {
      "text/plain": [
       "-2"
      ]
     },
     "execution_count": 4,
     "metadata": {},
     "output_type": "execute_result"
    }
   ],
   "source": [
    "5-7"
   ]
  },
  {
   "cell_type": "code",
   "execution_count": 5,
   "id": "157b0863-5b9b-4e38-ba53-617aec451606",
   "metadata": {},
   "outputs": [],
   "source": [
    "x=10"
   ]
  },
  {
   "cell_type": "code",
   "execution_count": 6,
   "id": "3c10cef1-7002-4566-9c2d-cb13c57eceff",
   "metadata": {},
   "outputs": [
    {
     "name": "stdout",
     "output_type": "stream",
     "text": [
      "10\n"
     ]
    }
   ],
   "source": [
    "print(x)"
   ]
  },
  {
   "cell_type": "code",
   "execution_count": 7,
   "id": "466400e1-3a48-4b36-a16f-9033c8178831",
   "metadata": {},
   "outputs": [],
   "source": [
    "s=10"
   ]
  },
  {
   "cell_type": "code",
   "execution_count": 8,
   "id": "10de57ce-454e-4422-bea9-d6bbe1b9692c",
   "metadata": {},
   "outputs": [],
   "source": [
    "y=20"
   ]
  },
  {
   "cell_type": "code",
   "execution_count": 9,
   "id": "1d9ba0dd-5f8e-46b2-8ef2-4d5bf7469e33",
   "metadata": {},
   "outputs": [
    {
     "name": "stdout",
     "output_type": "stream",
     "text": [
      "30\n"
     ]
    }
   ],
   "source": [
    "print(x+y)"
   ]
  },
  {
   "cell_type": "code",
   "execution_count": 10,
   "id": "e68134be-8f4c-4a19-b0a4-febbbf40a7c9",
   "metadata": {},
   "outputs": [
    {
     "data": {
      "text/plain": [
       "30"
      ]
     },
     "execution_count": 10,
     "metadata": {},
     "output_type": "execute_result"
    }
   ],
   "source": [
    "x+y"
   ]
  },
  {
   "cell_type": "code",
   "execution_count": 11,
   "id": "211a399b-438c-4e09-bbdc-6998db72b919",
   "metadata": {},
   "outputs": [
    {
     "data": {
      "text/plain": [
       "-10"
      ]
     },
     "execution_count": 11,
     "metadata": {},
     "output_type": "execute_result"
    }
   ],
   "source": [
    "x-y"
   ]
  },
  {
   "cell_type": "code",
   "execution_count": 12,
   "id": "c08e9550-cd1e-4136-928b-b7aac3460d0a",
   "metadata": {},
   "outputs": [
    {
     "data": {
      "text/plain": [
       "200"
      ]
     },
     "execution_count": 12,
     "metadata": {},
     "output_type": "execute_result"
    }
   ],
   "source": [
    "x*y"
   ]
  },
  {
   "cell_type": "code",
   "execution_count": 13,
   "id": "b2225298-8fcd-44d9-999f-6c627e587c00",
   "metadata": {},
   "outputs": [
    {
     "data": {
      "text/plain": [
       "0.5"
      ]
     },
     "execution_count": 13,
     "metadata": {},
     "output_type": "execute_result"
    }
   ],
   "source": [
    "x/y"
   ]
  },
  {
   "cell_type": "code",
   "execution_count": 14,
   "id": "cc56108d-bd29-4121-a5bb-5c9b53e5bada",
   "metadata": {},
   "outputs": [],
   "source": [
    "x=10"
   ]
  },
  {
   "cell_type": "code",
   "execution_count": 15,
   "id": "6083bf93-953b-43f3-af17-3f9f38acf0f3",
   "metadata": {},
   "outputs": [
    {
     "data": {
      "text/plain": [
       "int"
      ]
     },
     "execution_count": 15,
     "metadata": {},
     "output_type": "execute_result"
    }
   ],
   "source": [
    "type(x)"
   ]
  },
  {
   "cell_type": "code",
   "execution_count": 16,
   "id": "a287aef8-1525-4db8-a1ad-3ddae2dd4211",
   "metadata": {},
   "outputs": [],
   "source": [
    "x=10.5"
   ]
  },
  {
   "cell_type": "code",
   "execution_count": 17,
   "id": "f8afdb48-71d3-46d6-85a8-f129225cb9c9",
   "metadata": {},
   "outputs": [
    {
     "data": {
      "text/plain": [
       "float"
      ]
     },
     "execution_count": 17,
     "metadata": {},
     "output_type": "execute_result"
    }
   ],
   "source": [
    "type(x)"
   ]
  },
  {
   "cell_type": "code",
   "execution_count": 18,
   "id": "79f733e8-08be-47e6-ab8e-8690ba72ca6e",
   "metadata": {},
   "outputs": [],
   "source": [
    "x=\"abhay\""
   ]
  },
  {
   "cell_type": "code",
   "execution_count": 19,
   "id": "5c90f33a-a7a3-400b-966b-4dcbfc79c5ca",
   "metadata": {},
   "outputs": [
    {
     "name": "stdout",
     "output_type": "stream",
     "text": [
      "abhay\n"
     ]
    }
   ],
   "source": [
    "print(x)"
   ]
  },
  {
   "cell_type": "code",
   "execution_count": 20,
   "id": "6f1f6827-52ce-4bd2-976a-d60d3f65beb3",
   "metadata": {},
   "outputs": [
    {
     "data": {
      "text/plain": [
       "str"
      ]
     },
     "execution_count": 20,
     "metadata": {},
     "output_type": "execute_result"
    }
   ],
   "source": [
    "type(x)"
   ]
  },
  {
   "cell_type": "code",
   "execution_count": 21,
   "id": "d74d1775-0cc2-42c5-8be3-ccc7ddd0b18f",
   "metadata": {},
   "outputs": [],
   "source": [
    "x=10"
   ]
  },
  {
   "cell_type": "code",
   "execution_count": 22,
   "id": "e0ddacec-6eaf-4294-8d87-ac08d9bff4c9",
   "metadata": {},
   "outputs": [],
   "source": [
    "y=20"
   ]
  },
  {
   "cell_type": "code",
   "execution_count": 23,
   "id": "61b9987d-53e0-4710-be2e-665468d734d9",
   "metadata": {},
   "outputs": [
    {
     "data": {
      "text/plain": [
       "30"
      ]
     },
     "execution_count": 23,
     "metadata": {},
     "output_type": "execute_result"
    }
   ],
   "source": [
    "x+y"
   ]
  },
  {
   "cell_type": "code",
   "execution_count": 24,
   "id": "49f52f20-0150-43f6-a09f-b5b591e2fb87",
   "metadata": {},
   "outputs": [
    {
     "name": "stdout",
     "output_type": "stream",
     "text": [
      "30\n"
     ]
    }
   ],
   "source": [
    "print(x+y)"
   ]
  },
  {
   "cell_type": "code",
   "execution_count": 31,
   "id": "a9274653-e831-44b9-bfdc-2cb5f0dd5fe0",
   "metadata": {},
   "outputs": [],
   "source": [
    "x=\"abhay\""
   ]
  },
  {
   "cell_type": "code",
   "execution_count": 32,
   "id": "fa9f675a-7751-4c21-920b-2e30d18346c5",
   "metadata": {},
   "outputs": [],
   "source": [
    "y=\"krishna\""
   ]
  },
  {
   "cell_type": "code",
   "execution_count": 34,
   "id": "8e94148a-d0ef-4527-bd64-359e4a795f15",
   "metadata": {},
   "outputs": [
    {
     "name": "stdout",
     "output_type": "stream",
     "text": [
      "abhay krishna\n"
     ]
    }
   ],
   "source": [
    "print (x+ \" \" +y)"
   ]
  },
  {
   "cell_type": "code",
   "execution_count": 35,
   "id": "ab6c0303-69fb-475b-8374-25079a78db12",
   "metadata": {},
   "outputs": [],
   "source": [
    "x=\"india\""
   ]
  },
  {
   "cell_type": "code",
   "execution_count": 36,
   "id": "6f726c2b-392e-412a-85c6-3656919e9397",
   "metadata": {},
   "outputs": [],
   "source": [
    "y=\"is\""
   ]
  },
  {
   "cell_type": "code",
   "execution_count": 37,
   "id": "c9401c80-1b1b-4bb5-bf10-7c5a95c8bd78",
   "metadata": {},
   "outputs": [],
   "source": [
    "z=\"my\""
   ]
  },
  {
   "cell_type": "code",
   "execution_count": 38,
   "id": "864cf868-aa87-477f-8f27-3b3d9123c085",
   "metadata": {},
   "outputs": [],
   "source": [
    "a=\"country\""
   ]
  },
  {
   "cell_type": "code",
   "execution_count": 41,
   "id": "63710b8b-fdb6-40cf-97ca-543623d8a047",
   "metadata": {
    "tags": []
   },
   "outputs": [
    {
     "name": "stdout",
     "output_type": "stream",
     "text": [
      "india is my country\n"
     ]
    }
   ],
   "source": [
    "print(x+\" \"+y+\" \"+z+\" \"+a)"
   ]
  },
  {
   "cell_type": "code",
   "execution_count": 53,
   "id": "880ba9f7-7249-4f30-a6a8-032aa1595edf",
   "metadata": {},
   "outputs": [],
   "source": [
    "x=\"peacock\""
   ]
  },
  {
   "cell_type": "code",
   "execution_count": 54,
   "id": "13a3ddee-212b-4ba6-baaa-a0d6c1c4559c",
   "metadata": {},
   "outputs": [],
   "source": [
    "y=\"is\""
   ]
  },
  {
   "cell_type": "code",
   "execution_count": 55,
   "id": "8ba882b3-d96b-4ed4-ad92-c43cdd028e28",
   "metadata": {},
   "outputs": [],
   "source": [
    "z=\"our\""
   ]
  },
  {
   "cell_type": "code",
   "execution_count": 56,
   "id": "89d5a530-ed22-4c44-8e27-0676be92e57d",
   "metadata": {},
   "outputs": [],
   "source": [
    "a=\"national\""
   ]
  },
  {
   "cell_type": "code",
   "execution_count": 57,
   "id": "b6a54ac9-675a-41bd-af35-60bbf1183005",
   "metadata": {},
   "outputs": [],
   "source": [
    "d=\"bird\""
   ]
  },
  {
   "cell_type": "code",
   "execution_count": 58,
   "id": "c9cf625f-9399-4bbf-90b4-e11f19189376",
   "metadata": {},
   "outputs": [
    {
     "name": "stdout",
     "output_type": "stream",
     "text": [
      "peacock is our national bird\n"
     ]
    }
   ],
   "source": [
    "print(x+\" \"+y+\" \"+z+\" \"+a+\" \"+d)"
   ]
  },
  {
   "cell_type": "code",
   "execution_count": null,
   "id": "03ba5fd9-d308-43b4-b845-3896adfb447c",
   "metadata": {},
   "outputs": [],
   "source": []
  }
 ],
 "metadata": {
  "kernelspec": {
   "display_name": "Python 3 (ipykernel)",
   "language": "python",
   "name": "python3"
  },
  "language_info": {
   "codemirror_mode": {
    "name": "ipython",
    "version": 3
   },
   "file_extension": ".py",
   "mimetype": "text/x-python",
   "name": "python",
   "nbconvert_exporter": "python",
   "pygments_lexer": "ipython3",
   "version": "3.9.12"
  }
 },
 "nbformat": 4,
 "nbformat_minor": 5
}
