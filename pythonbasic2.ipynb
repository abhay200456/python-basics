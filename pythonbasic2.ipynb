{
  "nbformat": 4,
  "nbformat_minor": 0,
  "metadata": {
    "colab": {
      "provenance": []
    },
    "kernelspec": {
      "name": "python3",
      "display_name": "Python 3"
    },
    "language_info": {
      "name": "python"
    }
  },
  "cells": [
    {
      "cell_type": "code",
      "execution_count": 17,
      "metadata": {
        "colab": {
          "base_uri": "https://localhost:8080/"
        },
        "id": "eWhw0DtVvWJg",
        "outputId": "8594a482-07d4-4434-8130-a3d269825540"
      },
      "outputs": [
        {
          "output_type": "stream",
          "name": "stdout",
          "text": [
            "enter an amount800000\n",
            "np tax\n",
            "15000.0\n"
          ]
        }
      ],
      "source": [
        "x=int(input(\"enter an amount\"))\n",
        "if x>250000 and x<500000 :\n",
        "  print((x-2500000)*10/100)\n",
        "  print(\"you are taxable\")\n",
        "if x <2500000 :\n",
        "  print(\"np tax\")\n",
        "if x>500000 and x <750000:\n",
        "  print(((x-500000)*20/100)+(500000-250000)*10/100)\n",
        "if x>750000:\n",
        "  print((x-750000)*30/100)"
      ]
    },
    {
      "cell_type": "code",
      "source": [],
      "metadata": {
        "id": "_RNERAHVGq9J"
      },
      "execution_count": null,
      "outputs": []
    }
  ]
}