{
  "nbformat": 4,
  "nbformat_minor": 0,
  "metadata": {
    "colab": {
      "provenance": []
    },
    "kernelspec": {
      "name": "python3",
      "display_name": "Python 3"
    },
    "language_info": {
      "name": "python"
    }
  },
  "cells": [
    {
      "cell_type": "code",
      "execution_count": null,
      "metadata": {
        "colab": {
          "base_uri": "https://localhost:8080/"
        },
        "id": "uIypcWGDS9DT",
        "outputId": "a424c209-630e-43b2-8d2d-58ba8b865ff5"
      },
      "outputs": [
        {
          "output_type": "stream",
          "name": "stdout",
          "text": [
            "enter a mark55\n",
            "pass\n",
            "enter a mark45\n",
            "fail\n"
          ]
        }
      ],
      "source": [
        "x=int(input(\"enter a mark\"))\n",
        "if x >50 :\n",
        "  print(\"pass\")\n",
        "x=int(input(\"enter a mark\"))\n",
        "if x <50 :\n",
        "   print(\"fail\")\n",
        "    "
      ]
    },
    {
      "cell_type": "code",
      "source": [
        "x=[\"abhay krishna\",3,\"18\",\"irinjalakuda\", '06-2-2004']\n",
        "print(x)"
      ],
      "metadata": {
        "colab": {
          "base_uri": "https://localhost:8080/"
        },
        "id": "DafsPtJoTvCq",
        "outputId": "3417b979-9dbb-4d08-b46c-1f96cf6dec87"
      },
      "execution_count": null,
      "outputs": [
        {
          "output_type": "stream",
          "name": "stdout",
          "text": [
            "['abhay krishna', 3, '18', 'irinjalakuda', '06-2-2004']\n"
          ]
        }
      ]
    },
    {
      "cell_type": "code",
      "source": [
        "x[0]"
      ],
      "metadata": {
        "colab": {
          "base_uri": "https://localhost:8080/",
          "height": 35
        },
        "id": "ceY2vBEyWEjh",
        "outputId": "ee3cf7e5-ad2c-4c60-e1fd-9474a81a7521"
      },
      "execution_count": null,
      "outputs": [
        {
          "output_type": "execute_result",
          "data": {
            "text/plain": [
              "'abhay krishna'"
            ],
            "application/vnd.google.colaboratory.intrinsic+json": {
              "type": "string"
            }
          },
          "metadata": {},
          "execution_count": 5
        }
      ]
    },
    {
      "cell_type": "code",
      "source": [
        "x[1]"
      ],
      "metadata": {
        "colab": {
          "base_uri": "https://localhost:8080/"
        },
        "id": "YW-luoFCWIWy",
        "outputId": "79d50c13-647c-4b5b-bf29-87fbad3041cc"
      },
      "execution_count": null,
      "outputs": [
        {
          "output_type": "execute_result",
          "data": {
            "text/plain": [
              "3"
            ]
          },
          "metadata": {},
          "execution_count": 6
        }
      ]
    },
    {
      "cell_type": "code",
      "source": [
        "x[4]"
      ],
      "metadata": {
        "colab": {
          "base_uri": "https://localhost:8080/",
          "height": 35
        },
        "id": "nkHsrKm7WNF5",
        "outputId": "a3a0390c-8c46-4ac3-db4a-f2a3f0c1d1b1"
      },
      "execution_count": null,
      "outputs": [
        {
          "output_type": "execute_result",
          "data": {
            "text/plain": [
              "'06-2-2004'"
            ],
            "application/vnd.google.colaboratory.intrinsic+json": {
              "type": "string"
            }
          },
          "metadata": {},
          "execution_count": 9
        }
      ]
    },
    {
      "cell_type": "code",
      "source": [
        "x=['adam', 'anurag', 'raj']\n",
        "print(x)\n",
        "y=input('enter a name')\n",
        "x.append(y)\n",
        "print(x)"
      ],
      "metadata": {
        "colab": {
          "base_uri": "https://localhost:8080/"
        },
        "id": "fFBTau7fWSvR",
        "outputId": "c6c0f48a-dac9-4246-a437-61434ae3bdb1"
      },
      "execution_count": null,
      "outputs": [
        {
          "output_type": "stream",
          "name": "stdout",
          "text": [
            "['adam', 'anurag', 'raj']\n",
            "enter a namejoseph\n",
            "['adam', 'anurag', 'raj', 'joseph']\n"
          ]
        }
      ]
    },
    {
      "cell_type": "code",
      "source": [
        "x=['bat','ball','stump']\n",
        "print(x)\n",
        "y=input('which do you want to enter')\n",
        "k=int(input('which do you want to enter'))\n",
        "x.insert(k,y)\n",
        "print(x)"
      ],
      "metadata": {
        "id": "tmD0yyniWt2B",
        "colab": {
          "base_uri": "https://localhost:8080/"
        },
        "outputId": "465eeb9e-c042-42d0-b95f-0e65e8e89852"
      },
      "execution_count": null,
      "outputs": [
        {
          "output_type": "stream",
          "name": "stdout",
          "text": [
            "['bat', 'ball', 'stump']\n",
            "which do you want to enterijmjij\n",
            "which do you want to enter1\n",
            "['bat', 'ijmjij', 'ball', 'stump']\n"
          ]
        }
      ]
    }
  ]
}